{
 "cells": [
  {
   "cell_type": "code",
   "execution_count": 15,
   "metadata": {},
   "outputs": [],
   "source": [
    "from Bio import pairwise2\n",
    "from Bio.Seq import Seq\n",
    "\n",
    "seq_a = Seq(\"GCACTACT\")\n",
    "seq_b = Seq(\"CGATGCAGCACTACTCTCGACGACT\")"
   ]
  },
  {
   "cell_type": "code",
   "execution_count": 10,
   "metadata": {},
   "outputs": [
    {
     "name": "stdout",
     "output_type": "stream",
     "text": [
      "-G---CACT--AC---T\n",
      " |   ||||  ||   |\n",
      "CGATGCACTCGACGACT\n",
      "  Score=8\n",
      "\n",
      "----GCACT--AC---T\n",
      "    |||||  ||   |\n",
      "CGATGCACTCGACGACT\n",
      "  Score=8\n",
      "\n",
      "-G---CACT--A---CT\n",
      " |   ||||  |   ||\n",
      "CGATGCACTCGACGACT\n",
      "  Score=8\n",
      "\n",
      "----GCACT--A---CT\n",
      "    |||||  |   ||\n",
      "CGATGCACTCGACGACT\n",
      "  Score=8\n",
      "\n",
      "-G---CACT-----ACT\n",
      " |   ||||     |||\n",
      "CGATGCACTCGACGACT\n",
      "  Score=8\n",
      "\n",
      "----GCACT-----ACT\n",
      "    |||||     |||\n",
      "CGATGCACTCGACGACT\n",
      "  Score=8\n",
      "\n"
     ]
    }
   ],
   "source": [
    "# Global Aligment\n",
    "\n",
    "global_aligment = (pairwise2.align.globalxx(seq_a,seq_b))\n",
    "for aligment in global_aligment:\n",
    "    # pairwise2.format_aligment -> mengubah aligment menjadi array \n",
    "    # \"*\" untuk mengubah array menjadi string \n",
    "    print(pairwise2.format_alignment(*aligment))\n",
    "\n",
    "# Global Aligment always start from 0 and end to end of Sequence"
   ]
  },
  {
   "cell_type": "code",
   "execution_count": 18,
   "metadata": {},
   "outputs": [
    {
     "name": "stdout",
     "output_type": "stream",
     "text": [
      "Alignment(seqA='-G---CA-C--TAC----------T', seqB='CGATGCAGCACTACTCTCGACGACT', score=8.0, start=1, end=25)\n",
      "Alignment(seqA='----GCA-C--TAC----------T', seqB='CGATGCAGCACTACTCTCGACGACT', score=8.0, start=4, end=25)\n",
      "Alignment(seqA='-G---CA---CTAC----------T', seqB='CGATGCAGCACTACTCTCGACGACT', score=8.0, start=1, end=25)\n",
      "Alignment(seqA='----GCA---CTAC----------T', seqB='CGATGCAGCACTACTCTCGACGACT', score=8.0, start=4, end=25)\n",
      "Alignment(seqA='-G---C---ACTAC----------T', seqB='CGATGCAGCACTACTCTCGACGACT', score=8.0, start=1, end=25)\n",
      "Alignment(seqA='----GC---ACTAC----------T', seqB='CGATGCAGCACTACTCTCGACGACT', score=8.0, start=4, end=25)\n",
      "Alignment(seqA='-G------CACTAC----------T', seqB='CGATGCAGCACTACTCTCGACGACT', score=8.0, start=1, end=25)\n",
      "Alignment(seqA='----G---CACTAC----------T', seqB='CGATGCAGCACTACTCTCGACGACT', score=8.0, start=4, end=25)\n",
      "Alignment(seqA='-------GCACTAC----------T', seqB='CGATGCAGCACTACTCTCGACGACT', score=8.0, start=7, end=25)\n",
      "Alignment(seqA='-G---CA-C--TA--C--------T', seqB='CGATGCAGCACTACTCTCGACGACT', score=8.0, start=1, end=25)\n",
      "Alignment(seqA='----GCA-C--TA--C--------T', seqB='CGATGCAGCACTACTCTCGACGACT', score=8.0, start=4, end=25)\n",
      "Alignment(seqA='-G---CA---CTA--C--------T', seqB='CGATGCAGCACTACTCTCGACGACT', score=8.0, start=1, end=25)\n",
      "Alignment(seqA='----GCA---CTA--C--------T', seqB='CGATGCAGCACTACTCTCGACGACT', score=8.0, start=4, end=25)\n",
      "Alignment(seqA='-G---C---ACTA--C--------T', seqB='CGATGCAGCACTACTCTCGACGACT', score=8.0, start=1, end=25)\n",
      "Alignment(seqA='----GC---ACTA--C--------T', seqB='CGATGCAGCACTACTCTCGACGACT', score=8.0, start=4, end=25)\n",
      "Alignment(seqA='-G------CACTA--C--------T', seqB='CGATGCAGCACTACTCTCGACGACT', score=8.0, start=1, end=25)\n",
      "Alignment(seqA='----G---CACTA--C--------T', seqB='CGATGCAGCACTACTCTCGACGACT', score=8.0, start=4, end=25)\n",
      "Alignment(seqA='-------GCACTA--C--------T', seqB='CGATGCAGCACTACTCTCGACGACT', score=8.0, start=7, end=25)\n",
      "Alignment(seqA='-G---CA-C--TA----C------T', seqB='CGATGCAGCACTACTCTCGACGACT', score=8.0, start=1, end=25)\n",
      "Alignment(seqA='----GCA-C--TA----C------T', seqB='CGATGCAGCACTACTCTCGACGACT', score=8.0, start=4, end=25)\n",
      "Alignment(seqA='-G---CA---CTA----C------T', seqB='CGATGCAGCACTACTCTCGACGACT', score=8.0, start=1, end=25)\n",
      "Alignment(seqA='----GCA---CTA----C------T', seqB='CGATGCAGCACTACTCTCGACGACT', score=8.0, start=4, end=25)\n",
      "Alignment(seqA='-G---C---ACTA----C------T', seqB='CGATGCAGCACTACTCTCGACGACT', score=8.0, start=1, end=25)\n",
      "Alignment(seqA='----GC---ACTA----C------T', seqB='CGATGCAGCACTACTCTCGACGACT', score=8.0, start=4, end=25)\n",
      "Alignment(seqA='-G------CACTA----C------T', seqB='CGATGCAGCACTACTCTCGACGACT', score=8.0, start=1, end=25)\n",
      "Alignment(seqA='----G---CACTA----C------T', seqB='CGATGCAGCACTACTCTCGACGACT', score=8.0, start=4, end=25)\n",
      "Alignment(seqA='-------GCACTA----C------T', seqB='CGATGCAGCACTACTCTCGACGACT', score=8.0, start=7, end=25)\n"
     ]
    }
   ],
   "source": [
    "# Local Aligment\n",
    "local_aligment = (pairwise2.align.localxx(seq_a,seq_b))\n",
    "for aligment in local_aligment:\n",
    "    # pairwise2.format_aligment -> mengubah aligment menjadi array \n",
    "    # \"*\" untuk mengubah array menjadi string \n",
    "    print(aligment)"
   ]
  },
  {
   "cell_type": "code",
   "execution_count": 32,
   "metadata": {},
   "outputs": [
    {
     "name": "stdout",
     "output_type": "stream",
     "text": [
      "100 %\n",
      "32 %\n"
     ]
    }
   ],
   "source": [
    "# Get Aligment Score\n",
    "\n",
    "global_aligment_score = (pairwise2.align.globalxx(seq_a,seq_b,score_only=True))\n",
    "\n",
    "score_seq_a = (global_aligment_score/len(seq_a) * 100)\n",
    "score_seq_b = (global_aligment_score/len(seq_b) * 100)\n",
    "\n",
    "print(int(score_seq_a),\"%\")\n",
    "print(int(score_seq_b),\"%\")"
   ]
  },
  {
   "cell_type": "code",
   "execution_count": 36,
   "metadata": {},
   "outputs": [
    {
     "name": "stdout",
     "output_type": "stream",
     "text": [
      "-------GCACT----------ACT\n",
      "       |||||          |||\n",
      "CGATGCAGCACTACTCTCGACGACT\n",
      "  Score=13.5\n",
      "\n",
      "-------GCACTA----------CT\n",
      "       ||||||          ||\n",
      "CGATGCAGCACTACTCTCGACGACT\n",
      "  Score=13.5\n",
      "\n",
      "-------GCACTAC----------T\n",
      "       |||||||          |\n",
      "CGATGCAGCACTACTCTCGACGACT\n",
      "  Score=13.5\n",
      "\n",
      "-------GCACTACT----------\n",
      "       ||||||||          \n",
      "CGATGCAGCACTACTCTCGACGACT\n",
      "  Score=13.5\n",
      "\n"
     ]
    }
   ],
   "source": [
    "# + Matcting charcaters : 2 points \n",
    "# - Each mismatching charcaters : -1 points\n",
    "# - 0.5 points are deducted when opening a gap\n",
    "# - 0.1 points are deducted when extending it.\n",
    "\n",
    "ms = pairwise2.align.globalms(seq_a,seq_b,2,-1,-0.5,-0.1)\n",
    "\n",
    "for aligment in ms:\n",
    "    print(pairwise2.format_alignment(*aligment))"
   ]
  },
  {
   "cell_type": "code",
   "execution_count": 46,
   "metadata": {},
   "outputs": [
    {
     "data": {
      "text/plain": [
       "7"
      ]
     },
     "execution_count": 46,
     "metadata": {},
     "output_type": "execute_result"
    }
   ],
   "source": [
    "def hamming_distance(seq_a:Seq,seq_b:Seq):\n",
    "    zipped = zip(seq_a,seq_b)\n",
    "    distance = 0\n",
    "    for (i,j) in zipped:\n",
    "        if(i != j):\n",
    "            distance += 1\n",
    "\n",
    "    # cara singkat \n",
    "    # return len ([(i,j) for (i,j) in zip(seq_a,seq_b) if i != j])\n",
    "\n",
    "    return distance\n",
    "    \n",
    "hamming_distance(seq_a,seq_b)"
   ]
  },
  {
   "cell_type": "code",
   "execution_count": 52,
   "metadata": {},
   "outputs": [
    {
     "name": "stdout",
     "output_type": "stream",
     "text": [
      "17\n"
     ]
    }
   ],
   "source": [
    "from Levenshtein import distance as levenhtein_distance\n",
    "\n",
    "l_distance  = levenhtein_distance(seq_a,seq_b)\n",
    "print(l_distance)"
   ]
  },
  {
   "cell_type": "code",
   "execution_count": 72,
   "metadata": {},
   "outputs": [
    {
     "name": "stdout",
     "output_type": "stream",
     "text": [
      "[None, 'G', 'C', 'A', 'C', 'T', 'A', 'C', 'T']\n"
     ]
    },
    {
     "data": {
      "text/plain": [
       "[[None, 'G', 'C', 'A', 'C', 'T', 'A', 'C', 'T'],\n",
       " ['C', False, False, True, False, False, False, False, False],\n",
       " ['G', False, False, True, False, False, False, False, False],\n",
       " ['A', False, False, True, False, False, False, False, False],\n",
       " ['T', False, False, True, False, False, False, False, False],\n",
       " ['G', False, False, True, False, False, False, False, False],\n",
       " ['C', False, False, True, False, False, False, False, False],\n",
       " ['A', False, False, True, False, False, False, False, False],\n",
       " ['G', False, False, True, False, False, False, False, False],\n",
       " ['C', False, False, True, False, False, False, False, False],\n",
       " ['A', False, False, True, False, False, False, False, False],\n",
       " ['C', False, False, True, False, False, False, False, False],\n",
       " ['T', False, False, True, False, False, False, False, False],\n",
       " ['A', False, False, True, False, False, False, False, False],\n",
       " ['C', False, False, True, False, False, False, False, False],\n",
       " ['T', False, False, True, False, False, False, False, False],\n",
       " ['C', False, False, True, False, False, False, False, False],\n",
       " ['T', False, False, True, False, False, False, False, False],\n",
       " ['C', False, False, True, False, False, False, False, False],\n",
       " ['G', False, False, True, False, False, False, False, False],\n",
       " ['A', False, False, True, False, False, False, False, False],\n",
       " ['C', False, False, True, False, False, False, False, False],\n",
       " ['G', False, False, True, False, False, False, False, False],\n",
       " ['A', False, False, True, False, False, False, False, False],\n",
       " ['C', False, False, True, False, False, False, False, False],\n",
       " ['T', False, False, True, False, False, False, False, False]]"
      ]
     },
     "execution_count": 72,
     "metadata": {},
     "output_type": "execute_result"
    }
   ],
   "source": [
    "def create_map(seq_a,seq_b):\n",
    "    map = []\n",
    "\n",
    "    column_seq = (seq_a if len(seq_a) < len(seq_b) else seq_b)\n",
    "    column = list(column_seq)\n",
    "    column = [None,*column]\n",
    "    map.append(column)\n",
    "    print(column)\n",
    "\n",
    "    row_seq = (\n",
    "        seq_a if len (seq_a) >= len(seq_b) else seq_b\n",
    "    )\n",
    "\n",
    "    for c in row_seq:\n",
    "        temp1 = [False if row_seq[i] != column_seq[i] else True for i in range(len(column_seq))]\n",
    "        temp = [c,*temp1]\n",
    "        map.append(temp)\n",
    "    \n",
    "    return map\n",
    "\n",
    "\n",
    "create_map(seq_a,seq_b)\n"
   ]
  },
  {
   "cell_type": "code",
   "execution_count": 79,
   "metadata": {},
   "outputs": [
    {
     "name": "stdout",
     "output_type": "stream",
     "text": [
      "[None, 'G', 'C', 'A', 'C', 'T', 'A', 'C', 'T']\n",
      "|GCACTACT\n",
      "C|  ■     \n",
      "G|  ■     \n",
      "A|  ■     \n",
      "T|  ■     \n",
      "G|  ■     \n",
      "C|  ■     \n",
      "A|  ■     \n",
      "G|  ■     \n",
      "C|  ■     \n",
      "A|  ■     \n",
      "C|  ■     \n",
      "T|  ■     \n",
      "A|  ■     \n",
      "C|  ■     \n",
      "T|  ■     \n",
      "C|  ■     \n",
      "T|  ■     \n",
      "C|  ■     \n",
      "G|  ■     \n",
      "A|  ■     \n",
      "C|  ■     \n",
      "G|  ■     \n",
      "A|  ■     \n",
      "C|  ■     \n",
      "T|  ■     \n",
      "\n"
     ]
    }
   ],
   "source": [
    "def format_map(seq_a,seq_b):\n",
    "    map = create_map(seq_a,seq_b)\n",
    "    column = map[0]\n",
    "\n",
    "    map_string = \"\"\n",
    "    temp_column = \"|\"\n",
    "    \n",
    "    for i in range(1,len(column)):\n",
    "        temp_column += column[i]\n",
    "    \n",
    "    map_string += temp_column + \"\\n\"\n",
    "\n",
    "    for row in range(1,len(map)):\n",
    "        temp_row = \"\"\n",
    "        row = map[row]\n",
    "        for cell in row:\n",
    "            if(cell is False):\n",
    "                temp_row += \" \"\n",
    "            elif(cell is True):\n",
    "                temp_row += chr(0x25A0)\n",
    "            else:\n",
    "                temp_row += cell + \"|\"\n",
    "        map_string += temp_row + \"\\n\"\n",
    "    return map_string\n",
    "\n",
    "print(format_map(seq_a,seq_b))"
   ]
  }
 ],
 "metadata": {
  "kernelspec": {
   "display_name": "Python 3",
   "language": "python",
   "name": "python3"
  },
  "language_info": {
   "codemirror_mode": {
    "name": "ipython",
    "version": 3
   },
   "file_extension": ".py",
   "mimetype": "text/x-python",
   "name": "python",
   "nbconvert_exporter": "python",
   "pygments_lexer": "ipython3",
   "version": "3.11.3"
  },
  "orig_nbformat": 4
 },
 "nbformat": 4,
 "nbformat_minor": 2
}
