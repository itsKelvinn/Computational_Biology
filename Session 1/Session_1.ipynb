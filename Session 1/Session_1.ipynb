{
 "cells": [
  {
   "cell_type": "code",
   "execution_count": 68,
   "metadata": {},
   "outputs": [],
   "source": [
    "# import this libary to make DNA Sequence\n",
    "from Bio.Seq import Seq\n",
    "\n",
    "# Creare DNA Sequence\n",
    "DNA1 = Seq(\"ATTGCCTAGTAG\")\n",
    "DNA2 = Seq(\"GACGACTAATAT\")"
   ]
  },
  {
   "cell_type": "code",
   "execution_count": 14,
   "metadata": {},
   "outputs": [
    {
     "name": "stdout",
     "output_type": "stream",
     "text": [
      "DNA1 Sequence :  ATTGCCTAGTAG\n",
      "DNA2 Sequence :  GACGACTAATAT\n"
     ]
    }
   ],
   "source": [
    "# Print Sequence\n",
    "print(\"DNA1 Sequence : \" , DNA1)\n",
    "print(\"DNA2 Sequence : \" , DNA2)"
   ]
  },
  {
   "cell_type": "code",
   "execution_count": 15,
   "metadata": {},
   "outputs": [
    {
     "name": "stdout",
     "output_type": "stream",
     "text": [
      "DNA1 length Sequence :  12\n",
      "DNA2 length Sequence :  12\n"
     ]
    }
   ],
   "source": [
    "# Print lenght Sequence \n",
    "print(\"DNA1 length Sequence : \" , len(DNA1))\n",
    "print(\"DNA2 length Sequence : \" , len(DNA2))"
   ]
  },
  {
   "cell_type": "code",
   "execution_count": 16,
   "metadata": {},
   "outputs": [
    {
     "name": "stdout",
     "output_type": "stream",
     "text": [
      "DNA1 Sequence Slicing :  ATT\n",
      "DNA2 Sequence Slicing :  GAC\n"
     ]
    }
   ],
   "source": [
    "# DNA Slicing -> Syntax [start:end:interval(default = 1)] \n",
    "# if interval = -1 that means print reverse  \n",
    "print(\"DNA1 Sequence Slicing : \" , DNA1[0:3])\n",
    "print(\"DNA2 Sequence Slicing : \" , DNA2[0:3])"
   ]
  },
  {
   "cell_type": "code",
   "execution_count": 22,
   "metadata": {},
   "outputs": [
    {
     "name": "stdout",
     "output_type": "stream",
     "text": [
      "DNA1 :  ATTGCCTAGTAG\n",
      "DNA2 :  GACGACTAATAT\n",
      "DNA Splice1 :  ATTGCCTAGTAGGACGACTAATAT\n",
      "DNA_Splice2 :  ATTGCCGACGAC\n"
     ]
    }
   ],
   "source": [
    "# Print 2 DNA \n",
    "print(\"DNA1 : \" , DNA1)\n",
    "print(\"DNA2 : \" , DNA2)\n",
    "\n",
    "# DNA Splice -> Combination of 2 DNA \n",
    "DNA_Splice1 = DNA1 + DNA2\n",
    "print(\"DNA Splice1 : \" , DNA_Splice1)\n",
    "\n",
    "# Splicing half of each DNA\n",
    "DNA_Splice2 = DNA1[:6:] + DNA2[:6:]\n",
    "print(\"DNA_Splice2 : \" , DNA_Splice2) "
   ]
  },
  {
   "cell_type": "code",
   "execution_count": 28,
   "metadata": {},
   "outputs": [
    {
     "name": "stdout",
     "output_type": "stream",
     "text": [
      "Sequence DNA1  :  ATTGCCTAGTAG\n",
      "Nucleotide \"C\" DNA1 :  2\n",
      "Nucleotide \"G\" DNA1 :  3\n",
      "Nucleotide \"A\" DNA1 :  3\n",
      "Nucleotide \"T\" DNA1 :  4\n",
      "Sequence DNA2  :  GACGACTAATAT\n",
      "Nucleotide \"C\" DNA2 :  2\n",
      "Nucleotide \"G\" DNA2 :  2\n",
      "Nucleotide \"A\" DNA2 :  5\n",
      "Nucleotide \"T\" DNA2 :  3\n"
     ]
    }
   ],
   "source": [
    "# Counting the number of Nucleotides in a Sequence -> using Count(char nucleotide) method \n",
    "\n",
    "# DNA1\n",
    "print(\"Sequence DNA1  : \" , DNA1 )\n",
    "print(\"Nucleotide \\\"C\\\" DNA1 : \" , DNA1.count(\"C\"))\n",
    "print(\"Nucleotide \\\"G\\\" DNA1 : \" , DNA1.count(\"G\"))\n",
    "print(\"Nucleotide \\\"A\\\" DNA1 : \" , DNA1.count(\"A\"))\n",
    "print(\"Nucleotide \\\"T\\\" DNA1 : \" , DNA1.count(\"T\"))\n",
    "\n",
    "# DNA2\n",
    "print(\"Sequence DNA2  : \" , DNA2 )\n",
    "print(\"Nucleotide \\\"C\\\" DNA2 : \" , DNA2.count(\"C\"))\n",
    "print(\"Nucleotide \\\"G\\\" DNA2 : \" , DNA2.count(\"G\"))\n",
    "print(\"Nucleotide \\\"A\\\" DNA2 : \" , DNA2.count(\"A\"))\n",
    "print(\"Nucleotide \\\"T\\\" DNA2 : \" , DNA2.count(\"T\"))"
   ]
  },
  {
   "cell_type": "code",
   "execution_count": 30,
   "metadata": {},
   "outputs": [
    {
     "name": "stdout",
     "output_type": "stream",
     "text": [
      "Sequence DNA1 :  ATTGCCTAGTAG\n",
      "DNA1 codon \"GAC\" :  2\n"
     ]
    }
   ],
   "source": [
    "# Counting the number of codon in a Sequence -> using Count(string codon) method\n",
    "\n",
    "print(\"Sequence DNA1 : \" , DNA1)\n",
    "print(\"DNA1 codon \\\"GAC\\\" : \", DNA2.count(\"GAC\"))"
   ]
  },
  {
   "cell_type": "code",
   "execution_count": 39,
   "metadata": {},
   "outputs": [
    {
     "name": "stdout",
     "output_type": "stream",
     "text": [
      "[Using find()]  -> DNA2 position of nucleotide \"A\" :  1\n",
      "[Using rfind()] -> DNA2 position of nucleotide \"A\" :  10\n"
     ]
    }
   ],
   "source": [
    "# Finding the position of nucleotide in a Sequence \n",
    "\n",
    "# There are two method we can use to find nucleotide \n",
    "# -> find(char nucleotide) this method will return int base on first position of index array from left to right\n",
    "# -> rfind(char nucleotide) this method will return int base on first position of index array from right to left\n",
    "\n",
    "print(\"[Using find()]  -> DNA2 position of nucleotide \\\"A\\\" : \" , DNA2.find(\"A\"))\n",
    "print(\"[Using rfind()] -> DNA2 position of nucleotide \\\"A\\\" : \" , DNA2.rfind(\"A\"))\n"
   ]
  },
  {
   "cell_type": "code",
   "execution_count": 40,
   "metadata": {},
   "outputs": [
    {
     "name": "stdout",
     "output_type": "stream",
     "text": [
      "[Using find()]  -> DNA2 position of nucleotide \"AAT\" :  7\n",
      "[Using rfind()] -> DNA2 position of nucleotide \"AAT\" :  7\n"
     ]
    }
   ],
   "source": [
    "# Finding the position of codon in a Sequence \n",
    "\n",
    "# There are two method we can use to find codon \n",
    "# -> find(char nucleotide) this method will return int base on first position of index array from left to right\n",
    "# -> rfind(char nucleotide) this method will return int base on first position of index array from right to left\n",
    "\n",
    "print(\"[Using find()]  -> DNA2 position of nucleotide \\\"AAT\\\" : \" , DNA2.find(\"AAT\"))\n",
    "print(\"[Using rfind()] -> DNA2 position of nucleotide \\\"AAT\\\" : \" , DNA2.rfind(\"AAT\"))\n"
   ]
  },
  {
   "cell_type": "code",
   "execution_count": 52,
   "metadata": {},
   "outputs": [
    {
     "data": {
      "text/plain": [
       "['ATTAGG', 0, 18]"
      ]
     },
     "execution_count": 52,
     "metadata": {},
     "output_type": "execute_result"
    }
   ],
   "source": [
    "# Finding a Subsequence in a Sequence \n",
    "\n",
    "# importing nt_search\n",
    "from Bio.SeqUtils import nt_search as nt \n",
    "\n",
    "# Create Sequence and Subsequence \n",
    "Sequence = Seq(\"ATTAGGCCCGAGGGATTAATTAGGCCCGAGGGATTA\")\n",
    "Subsequence = Seq(\"ATTAGG\")\n",
    "\n",
    "# Search Subsequence in Sequence\n",
    "nt(str(Sequence),str(Subsequence))"
   ]
  },
  {
   "cell_type": "code",
   "execution_count": 60,
   "metadata": {},
   "outputs": [
    {
     "name": "stdout",
     "output_type": "stream",
     "text": [
      "Counter({'G': 12, 'A': 10, 'T': 8, 'C': 6})\n",
      "dict_keys(['A', 'T', 'G', 'C'])\n",
      "dict_values([10, 8, 12, 6])\n"
     ]
    }
   ],
   "source": [
    "# Counting the number of different Nucleotides insedes a sequence -> using counter from Collection\n",
    "\n",
    "# import \n",
    "from collections import Counter as count\n",
    "\n",
    "NucleotideComposition = count(Sequence)\n",
    "print(NucleotideComposition)\n",
    "print(NucleotideComposition.keys())\n",
    "print(NucleotideComposition.values())\n",
    "\n"
   ]
  },
  {
   "cell_type": "code",
   "execution_count": 71,
   "metadata": {},
   "outputs": [
    {
     "data": {
      "image/png": "[encoded data removed]",
      "text/plain": [
       "<Figure size 640x480 with 1 Axes>"
      ]
     },
     "metadata": {},
     "output_type": "display_data"
    }
   ],
   "source": [
    "# Ploting the frequency of Nucleotides in Sequence \n",
    "\n",
    "# Import plot libary\n",
    "import matplotlib.pyplot as plt\n",
    "\n",
    "plt.title(\"Nucleotide Frequency\")\n",
    "plt.bar(NucleotideComposition.keys(),NucleotideComposition.values())\n",
    "plt.scatter(NucleotideComposition.keys(),NucleotideComposition.values())\n",
    "plt.show()"
   ]
  },
  {
   "attachments": {},
   "cell_type": "markdown",
   "metadata": {},
   "source": [
    "Contoh Sequence , Nucleotide dan Codon \n",
    "\n",
    "-> Sequence = ATTGCCTAGTAG , GACGACTAATAT\n",
    "-> Subsequence = AGGAT\n",
    "-> Nucleotide = C,G,A,T\n",
    "-> Codon = CGA , TGG"
   ]
  }
 ],
 "metadata": {
  "kernelspec": {
   "display_name": "Python 3",
   "language": "python",
   "name": "python3"
  },
  "language_info": {
   "codemirror_mode": {
    "name": "ipython",
    "version": 3
   },
   "file_extension": ".py",
   "mimetype": "text/x-python",
   "name": "python",
   "nbconvert_exporter": "python",
   "pygments_lexer": "ipython3",
   "version": "3.11.3"
  },
  "orig_nbformat": 4
 },
 "nbformat": 4,
 "nbformat_minor": 2
}
