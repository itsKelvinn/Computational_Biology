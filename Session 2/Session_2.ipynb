{
 "cells": [
  {
   "cell_type": "code",
   "execution_count": 30,
   "metadata": {},
   "outputs": [],
   "source": [
    "from Bio.Seq import Seq \n",
    "\n",
    "Seq_a = Seq(\"ATCGGTACCCGTAAGGCATACGCGGTTAAGGCTAGCCTAAGGCGCCTGAACCGTAA\")\n",
    "Seq_b = Seq(\"TGCATGGATACGCTACAGTTGCGAACGGCTGATGCCATGGTAGCTGCACCGTAGAGC\")"
   ]
  },
  {
   "cell_type": "code",
   "execution_count": 44,
   "metadata": {},
   "outputs": [
    {
     "name": "stdout",
     "output_type": "stream",
     "text": [
      "31\n",
      "32\n"
     ]
    }
   ],
   "source": [
    "def count_gc(seq : Seq):\n",
    "    # gc = [i for i in Seq if i in \"gc\"]\n",
    "\n",
    "    seq = seq.lower()\n",
    "    gc = []\n",
    "    for i in seq:\n",
    "        if(i in \"gc\"):\n",
    "            gc.append(i)\n",
    "    return len(gc)\n",
    "\n",
    "print(count_gc(Seq_a))\n",
    "print(count_gc(Seq_b))"
   ]
  },
  {
   "cell_type": "code",
   "execution_count": 42,
   "metadata": {},
   "outputs": [
    {
     "name": "stdout",
     "output_type": "stream",
     "text": [
      "25\n",
      "25\n"
     ]
    }
   ],
   "source": [
    "def count_at(seq : Seq):\n",
    "    seq = seq.lower()\n",
    "    at = [i for i in seq if i in \"at\"]\n",
    "    return len(at)\n",
    "\n",
    "print(count_at(Seq_a))\n",
    "print(count_at(Seq_b))"
   ]
  },
  {
   "cell_type": "code",
   "execution_count": 33,
   "metadata": {},
   "outputs": [
    {
     "data": {
      "image/png": "[encoded data removed]",
      "text/plain": [
       "<Figure size 640x480 with 1 Axes>"
      ]
     },
     "metadata": {},
     "output_type": "display_data"
    }
   ],
   "source": [
    "import matplotlib.pyplot as plt \n",
    "\n",
    "plt.title(\"Plot a graph for GC and AT Seq A\")\n",
    "plt.bar(height=[count_gc(Seq_a),count_at(Seq_a)],x=[\"GC\",\"AT\"])\n",
    "plt.show()"
   ]
  },
  {
   "cell_type": "code",
   "execution_count": 34,
   "metadata": {},
   "outputs": [
    {
     "data": {
      "image/png": "[encoded data removed]",
      "text/plain": [
       "<Figure size 640x480 with 1 Axes>"
      ]
     },
     "metadata": {},
     "output_type": "display_data"
    }
   ],
   "source": [
    "gc_persentage = round(count_gc(Seq_a) / len(Seq_a) * 100,1)\n",
    "at_persentage = round(count_at(Seq_a) / len(Seq_a) * 100, 1)\n",
    "\n",
    "plt.pie(x=[gc_persentage,at_persentage],labels=[f\"{gc_persentage}%\",f\"{at_persentage}%\"])\n",
    "plt.legend([\"GC\",\"AT\"])\n",
    "plt.show()"
   ]
  },
  {
   "cell_type": "code",
   "execution_count": 35,
   "metadata": {},
   "outputs": [
    {
     "name": "stdout",
     "output_type": "stream",
     "text": [
      "wallace_dna_a :  174.0\n",
      "wallace_dna_b :  178.0\n"
     ]
    }
   ],
   "source": [
    "from Bio.SeqUtils import MeltingTemp as mt \n",
    "\n",
    "wallace_dna_a = mt.Tm_Wallace(Seq_a)\n",
    "wallace_dna_b = mt.Tm_Wallace(Seq_b)\n",
    "\n",
    "print(\"wallace_dna_a : \" , wallace_dna_a)\n",
    "print(\"wallace_dna_b : \" , wallace_dna_b)"
   ]
  },
  {
   "cell_type": "code",
   "execution_count": 36,
   "metadata": {},
   "outputs": [
    {
     "name": "stdout",
     "output_type": "stream",
     "text": [
      "1323.892857142857\n",
      "1365.10350877193\n"
     ]
    }
   ],
   "source": [
    "def wallace_manual(seq:Seq):\n",
    "    \n",
    "    at = count_at(seq)\n",
    "    gc = count_gc(seq)\n",
    "\n",
    "    if(len(seq) <= 13):\n",
    "        # Tm = (wA + xT ) * 2 + (yG + zC) * 4 \n",
    "        return at * 2 + gc * 4\n",
    "    else : \n",
    "        # Tm = 64.9 + 41 * (yG + zC - 16.4) / ( wA + xT + yG + zC)\n",
    "        return 64.9 + 41 * (gc - 16.4 / len(seq))\n",
    "\n",
    "print(wallace_manual(Seq_a))\n",
    "print(wallace_manual(Seq_b))"
   ]
  },
  {
   "cell_type": "code",
   "execution_count": 37,
   "metadata": {},
   "outputs": [
    {
     "name": "stdout",
     "output_type": "stream",
     "text": [
      "71.88504492912077\n",
      "72.39413014215334\n"
     ]
    }
   ],
   "source": [
    "gc_dna_a = mt.Tm_GC(Seq_a)\n",
    "gc_dna_b = mt.Tm_GC(Seq_b)\n",
    "\n",
    "print(gc_dna_a)\n",
    "print(gc_dna_b)"
   ]
  },
  {
   "cell_type": "code",
   "execution_count": 38,
   "metadata": {},
   "outputs": [
    {
     "name": "stdout",
     "output_type": "stream",
     "text": [
      "74.51933327165364\n",
      "75.18177891306215\n"
     ]
    }
   ],
   "source": [
    "nn_dna_a = mt.Tm_NN(Seq_a)\n",
    "nn_dna_b = mt.Tm_NN(Seq_b)\n",
    "\n",
    "print(nn_dna_a)\n",
    "print(nn_dna_b)"
   ]
  },
  {
   "cell_type": "code",
   "execution_count": 50,
   "metadata": {},
   "outputs": [
    {
     "name": "stdout",
     "output_type": "stream",
     "text": [
      "17363.0662\n",
      "17714.269599999996\n"
     ]
    }
   ],
   "source": [
    "from Bio.SeqUtils import molecular_weight as mw\n",
    "\n",
    "weight_dna_a = mw(Seq_a)\n",
    "weight_dna_b = mw(Seq_b)\n",
    "\n",
    "print(weight_dna_a)\n",
    "print(weight_dna_b)"
   ]
  },
  {
   "cell_type": "code",
   "execution_count": 53,
   "metadata": {},
   "outputs": [
    {
     "name": "stdout",
     "output_type": "stream",
     "text": [
      "18118.766600000003\n",
      "18457.916200000007\n"
     ]
    }
   ],
   "source": [
    "# Convert DNA TO RNA\n",
    "rna_a = Seq_a.transcribe()\n",
    "rna_b = Seq_b.transcribe()\n",
    "\n",
    "# To find Mollecure Weight second parameter of mw , seq_type need to set \"RNA\"\n",
    "weight_rna_a = mw(rna_a,seq_type=\"RNA\")\n",
    "weight_rna_b = mw(rna_b,seq_type=\"RNA\")\n",
    "\n",
    "print(weight_rna_a)\n",
    "print(weight_rna_b)"
   ]
  },
  {
   "cell_type": "code",
   "execution_count": 40,
   "metadata": {},
   "outputs": [
    {
     "name": "stdout",
     "output_type": "stream",
     "text": [
      "5285.3097\n",
      "4355.742299999999\n",
      "4716.112799999999\n",
      "3059.9473000000007\n",
      "17417.1121\n"
     ]
    }
   ],
   "source": [
    "def count_each(seq:Seq, t):\n",
    "    seq = seq.lower()\n",
    "    t = t.lower()    \n",
    "    g = [i for i in seq if i == t]\n",
    "    g = \"\".join(g)\n",
    "    \n",
    "    return mw(g)\n",
    "\n",
    "print(count_each(Seq_a , 'g'))\n",
    "print(count_each(Seq_a , 'c'))\n",
    "print(count_each(Seq_a , 'a'))\n",
    "print(count_each(Seq_a , 't'))\n",
    "\n",
    "print(count_each(Seq_a , 't') + count_each(Seq_a , 'a') + count_each(Seq_a , 'c') + count_each(Seq_a , 'g'))"
   ]
  },
  {
   "cell_type": "code",
   "execution_count": null,
   "metadata": {},
   "outputs": [],
   "source": []
  }
 ],
 "metadata": {
  "kernelspec": {
   "display_name": "Python 3",
   "language": "python",
   "name": "python3"
  },
  "language_info": {
   "codemirror_mode": {
    "name": "ipython",
    "version": 3
   },
   "file_extension": ".py",
   "mimetype": "text/x-python",
   "name": "python",
   "nbconvert_exporter": "python",
   "pygments_lexer": "ipython3",
   "version": "3.11.3"
  },
  "orig_nbformat": 4
 },
 "nbformat": 4,
 "nbformat_minor": 2
}
