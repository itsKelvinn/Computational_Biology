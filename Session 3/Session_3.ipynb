{
 "cells": [
  {
   "cell_type": "code",
   "execution_count": 79,
   "metadata": {},
   "outputs": [],
   "source": [
    "# Import Seq Libary\n",
    "from Bio.Seq import Seq"
   ]
  },
  {
   "attachments": {},
   "cell_type": "markdown",
   "metadata": {},
   "source": [
    " =======================                      \\\n",
    " | | | | | | | | | | | |   -> Coding Strand    |\n",
    " A T G A T C T C G T A A                       |\n",
    "                                               | -> DNA \n",
    " =======================   -> RNA              |\n",
    " | | | | | | | | | | | |                       |\n",
    " A U G A U C U C G U A A                       |\n",
    "                                               |\n",
    " T A C T A G A G C A T T                       |\n",
    " | | | | | | | | | | | |  -> Templet Strand    |\n",
    " =======================                      /\n"
   ]
  },
  {
   "cell_type": "code",
   "execution_count": 88,
   "metadata": {},
   "outputs": [
    {
     "name": "stdout",
     "output_type": "stream",
     "text": [
      "DNA1 :  TACTAGAGCATT\n",
      "DNA1 Complement :  ATGATCTCGTAA\n",
      "DNA1 Reverse Complement :  AATGCTCTAGTA\n",
      "DNA1 slicing Complement :  ATG\n",
      "DNA1 Reverse slicing Complement :  AAT\n"
     ]
    }
   ],
   "source": [
    "DNA = Seq('TACTAGAGCATT')\n",
    "\n",
    "print(\"DNA1 : \" , DNA)\n",
    "\n",
    "# Create DNA1 Complement \n",
    "print(\"DNA1 Complement : \" , DNA.complement())\n",
    "\n",
    "# Reverse DNA1 Complement \n",
    "print(\"DNA1 Reverse Complement : \" , DNA.reverse_complement())\n",
    "\n",
    "# Slicing DNA1 Complement\n",
    "print(\"DNA1 slicing Complement : \" , DNA.complement()[0:3])\n",
    "\n",
    "# Slicing DNA1 Reverse Complement \n",
    "print(\"DNA1 Reverse slicing Complement : \" , DNA.reverse_complement()[0:3])"
   ]
  },
  {
   "cell_type": "code",
   "execution_count": 89,
   "metadata": {},
   "outputs": [
    {
     "name": "stdout",
     "output_type": "stream",
     "text": [
      "Coding Strand  :  ATGATCTCGTAA\n",
      "Templet Strand :  TACTAGAGCATT\n"
     ]
    }
   ],
   "source": [
    "# IN DNA U CAN USE Templet Strand to find Coding Strand and Coding Strand to find Templet Strand \n",
    "# by using complement method\n",
    "\n",
    "Templet_Strand = Seq(\"TACTAGAGCATT\")\n",
    "Coding_Strand = Seq(\"ATGATCTCGTAA\")\n",
    "\n",
    "print(\"Coding Strand  : \" , Templet_Strand.complement())\n",
    "print(\"Templet Strand : \" , Coding_Strand.complement())\n"
   ]
  },
  {
   "cell_type": "code",
   "execution_count": 93,
   "metadata": {},
   "outputs": [
    {
     "name": "stdout",
     "output_type": "stream",
     "text": [
      "RNA :  AUGAUCUCGUAA\n",
      "DNA :  ATGATCTCGTAA\n"
     ]
    }
   ],
   "source": [
    "# If u want create RNA in Trancription procsess , u should use Coding Strand !\n",
    "# Coding Strand is needed to create RNA because The Coding Strand serves as a template for producing RNA \n",
    "# RNA form is base pairings occur during transcription A -> U (adenine-uracil), G -> C (guanine-cytosine), C -> G, and T -> A from Templet Strand\n",
    "\n",
    "# Create DNA by using Templet Strand convert into Coding Strand and then transcribe() \n",
    "RNA = Templet_Strand.complement().transcribe()\n",
    "print(\"RNA : \" , RNA)\n",
    "\n",
    "# Turn Back RNA to DNA by using back_transcribe() method\n",
    "print(\"DNA : \" , RNA.back_transcribe())"
   ]
  },
  {
   "cell_type": "code",
   "execution_count": 111,
   "metadata": {},
   "outputs": [
    {
     "name": "stdout",
     "output_type": "stream",
     "text": [
      "Protein :  MIS*\n",
      "Protein :  MIS*\n"
     ]
    }
   ],
   "source": [
    "# To Create Protein , RNA Sequence needed to translate() to Protein \n",
    "Protein = RNA.translate()\n",
    "print(\"Protein : \" , Protein)\n",
    "\n",
    "# OUTPUT : \n",
    "# MIS* -> M , I  , S and * is asam amino \n",
    "# we can call * stop codon which mean the end of protein translation\n",
    "# KALO NGA ADA STOP CODON DI DNA KITA , KANKER ANJ \n",
    "\n",
    "# change stop codong assign stop_symbol value in translate parameter \n",
    "Protein = RNA.translate(stop_symbol=\"*\")\n",
    "print(\"Protein : \" , Protein)\n",
    "\n"
   ]
  },
  {
   "cell_type": "code",
   "execution_count": 113,
   "metadata": {},
   "outputs": [
    {
     "name": "stdout",
     "output_type": "stream",
     "text": [
      "3 Latter Protein :  MetIleSerTer\n",
      "1 Latter Protein :  MIS*\n"
     ]
    }
   ],
   "source": [
    "from Bio.SeqUtils import seq1 , seq3 \n",
    "\n",
    "# Convert Asam amino to 3 latter \n",
    "print(\"3 Latter Protein : \" , seq3(Protein))\n",
    "\n",
    "# Convert Asam amino to 1 latter \n",
    "print(\"1 Latter Protein : \" , seq1(seq3(Protein)))"
   ]
  },
  {
   "cell_type": "code",
   "execution_count": 118,
   "metadata": {},
   "outputs": [
    {
     "name": "stdout",
     "output_type": "stream",
     "text": [
      "Table 1 Standard, SGC0\n",
      "\n",
      "  |  T      |  C      |  A      |  G      |\n",
      "--+---------+---------+---------+---------+--\n",
      "T | TTT F   | TCT S   | TAT Y   | TGT C   | T\n",
      "T | TTC F   | TCC S   | TAC Y   | TGC C   | C\n",
      "T | TTA L   | TCA S   | TAA Stop| TGA Stop| A\n",
      "T | TTG L(s)| TCG S   | TAG Stop| TGG W   | G\n",
      "--+---------+---------+---------+---------+--\n",
      "C | CTT L   | CCT P   | CAT H   | CGT R   | T\n",
      "C | CTC L   | CCC P   | CAC H   | CGC R   | C\n",
      "C | CTA L   | CCA P   | CAA Q   | CGA R   | A\n",
      "C | CTG L(s)| CCG P   | CAG Q   | CGG R   | G\n",
      "--+---------+---------+---------+---------+--\n",
      "A | ATT I   | ACT T   | AAT N   | AGT S   | T\n",
      "A | ATC I   | ACC T   | AAC N   | AGC S   | C\n",
      "A | ATA I   | ACA T   | AAA K   | AGA R   | A\n",
      "A | ATG M(s)| ACG T   | AAG K   | AGG R   | G\n",
      "--+---------+---------+---------+---------+--\n",
      "G | GTT V   | GCT A   | GAT D   | GGT G   | T\n",
      "G | GTC V   | GCC A   | GAC D   | GGC G   | C\n",
      "G | GTA V   | GCA A   | GAA E   | GGA G   | A\n",
      "G | GTG V   | GCG A   | GAG E   | GGG G   | G\n",
      "--+---------+---------+---------+---------+--\n",
      "ATGATCTCGTAA\n"
     ]
    }
   ],
   "source": [
    "from Bio.Data import CodonTable as ct \n",
    "\n",
    "print(ct.unambiguous_dna_by_name['Standard'])\n",
    "print(Coding_Strand)"
   ]
  },
  {
   "cell_type": "code",
   "execution_count": 120,
   "metadata": {},
   "outputs": [
    {
     "name": "stdout",
     "output_type": "stream",
     "text": [
      "Table 1 Standard, SGC0\n",
      "\n",
      "  |  U      |  C      |  A      |  G      |\n",
      "--+---------+---------+---------+---------+--\n",
      "U | UUU F   | UCU S   | UAU Y   | UGU C   | U\n",
      "U | UUC F   | UCC S   | UAC Y   | UGC C   | C\n",
      "U | UUA L   | UCA S   | UAA Stop| UGA Stop| A\n",
      "U | UUG L(s)| UCG S   | UAG Stop| UGG W   | G\n",
      "--+---------+---------+---------+---------+--\n",
      "C | CUU L   | CCU P   | CAU H   | CGU R   | U\n",
      "C | CUC L   | CCC P   | CAC H   | CGC R   | C\n",
      "C | CUA L   | CCA P   | CAA Q   | CGA R   | A\n",
      "C | CUG L(s)| CCG P   | CAG Q   | CGG R   | G\n",
      "--+---------+---------+---------+---------+--\n",
      "A | AUU I   | ACU T   | AAU N   | AGU S   | U\n",
      "A | AUC I   | ACC T   | AAC N   | AGC S   | C\n",
      "A | AUA I   | ACA T   | AAA K   | AGA R   | A\n",
      "A | AUG M(s)| ACG T   | AAG K   | AGG R   | G\n",
      "--+---------+---------+---------+---------+--\n",
      "G | GUU V   | GCU A   | GAU D   | GGU G   | U\n",
      "G | GUC V   | GCC A   | GAC D   | GGC G   | C\n",
      "G | GUA V   | GCA A   | GAA E   | GGA G   | A\n",
      "G | GUG V   | GCG A   | GAG E   | GGG G   | G\n",
      "--+---------+---------+---------+---------+--\n",
      "AUGAUCUCGUAA\n",
      "MIS*\n"
     ]
    }
   ],
   "source": [
    "print(ct.unambiguous_rna_by_name['Standard'])\n",
    "print(RNA)\n",
    "print(Protein)"
   ]
  },
  {
   "cell_type": "code",
   "execution_count": 131,
   "metadata": {},
   "outputs": [
    {
     "data": {
      "image/png": "[encoded data removed]",
      "text/plain": [
       "<Figure size 640x480 with 2 Axes>"
      ]
     },
     "metadata": {},
     "output_type": "display_data"
    }
   ],
   "source": [
    "DNA = Seq('ATGACGACATGA')\n",
    "RNA = DNA.complement().transcribe()\n",
    "\n",
    "import matplotlib.pyplot as plt \n",
    "plt.subplot(1,2,1)\n",
    "plt.title(\"DNA\")\n",
    "plt.bar(height=[DNA.count('C'),DNA.count('G'),DNA.count('A'),DNA.count('T')],x = ['C','G','A','T'])\n",
    "\n",
    "plt.subplot(1,2,2)\n",
    "plt.title(\"RNA\")\n",
    "plt.bar(height = [RNA.count('C'),RNA.count('G'),RNA.count('U'),RNA.count('A')],x = ['C','G','U','A'])\n",
    "\n",
    "plt.show()"
   ]
  }
 ],
 "metadata": {
  "kernelspec": {
   "display_name": "Python 3",
   "language": "python",
   "name": "python3"
  },
  "language_info": {
   "codemirror_mode": {
    "name": "ipython",
    "version": 3
   },
   "file_extension": ".py",
   "mimetype": "text/x-python",
   "name": "python",
   "nbconvert_exporter": "python",
   "pygments_lexer": "ipython3",
   "version": "3.11.3"
  },
  "orig_nbformat": 4
 },
 "nbformat": 4,
 "nbformat_minor": 2
}
