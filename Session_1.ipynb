{
 "cells": [
  {
   "cell_type": "code",
   "execution_count": 13,
   "metadata": {},
   "outputs": [],
   "source": [
    "# import this libary to make DNA Sequence\n",
    "from Bio.Seq import Seq\n",
    "\n",
    "# Creare DNA Sequence\n",
    "DNA1 = Seq(\"ATTGCCTAGTAG\")\n",
    "DNA2 = Seq(\"GACGACTAATAT\")"
   ]
  },
  {
   "cell_type": "code",
   "execution_count": 14,
   "metadata": {},
   "outputs": [
    {
     "name": "stdout",
     "output_type": "stream",
     "text": [
      "DNA1 Sequence :  ATTGCCTAGTAG\n",
      "DNA2 Sequence :  GACGACTAATAT\n"
     ]
    }
   ],
   "source": [
    "# Print Sequence\n",
    "print(\"DNA1 Sequence : \" , DNA1)\n",
    "print(\"DNA2 Sequence : \" , DNA2)"
   ]
  },
  {
   "cell_type": "code",
   "execution_count": 15,
   "metadata": {},
   "outputs": [
    {
     "name": "stdout",
     "output_type": "stream",
     "text": [
      "DNA1 length Sequence :  12\n",
      "DNA2 length Sequence :  12\n"
     ]
    }
   ],
   "source": [
    "\n",
    "# Print lenght Sequence \n",
    "print(\"DNA1 length Sequence : \" , len(DNA1))\n",
    "print(\"DNA2 length Sequence : \" , len(DNA2))"
   ]
  },
  {
   "cell_type": "code",
   "execution_count": 16,
   "metadata": {},
   "outputs": [
    {
     "name": "stdout",
     "output_type": "stream",
     "text": [
      "DNA1 Sequence Slicing :  ATT\n",
      "DNA2 Sequence Slicing :  GAC\n"
     ]
    }
   ],
   "source": [
    "\n",
    "# DNA Slicing -> Syntax [start:end:interval(default = 1)] \n",
    "# if interval = 1 that means print reverse  \n",
    "print(\"DNA1 Sequence Slicing : \" , DNA1[0:3])\n",
    "print(\"DNA2 Sequence Slicing : \" , DNA2[0:3])"
   ]
  },
  {
   "cell_type": "code",
   "execution_count": null,
   "metadata": {},
   "outputs": [],
   "source": []
  }
 ],
 "metadata": {
  "kernelspec": {
   "display_name": "Python 3",
   "language": "python",
   "name": "python3"
  },
  "language_info": {
   "name": "python",
   "version": "3.11.3"
  },
  "orig_nbformat": 4
 },
 "nbformat": 4,
 "nbformat_minor": 2
}
